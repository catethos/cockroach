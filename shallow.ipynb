{
 "cells": [
  {
   "cell_type": "markdown",
   "metadata": {},
   "source": [
    "# Shallow Water Model\n",
    "\n",
    "2 dimensional shallow water simulattion using discretization"
   ]
  },
  {
   "cell_type": "markdown",
   "metadata": {},
   "source": [
    "## Partial Differential Equation for Shallow Water Model\n",
    "\\begin{align}\n",
    "\\frac{\\partial}{\\partial t}u &= -g\\frac{\\partial}{\\partial x}h \\\\\n",
    "\\frac{\\partial}{\\partial t}v &= -g\\frac{\\partial}{\\partial y}h \\\\\n",
    "\\frac{\\partial}{\\partial t}h + \\frac{\\partial}{\\partial x}(hu) &+ \\frac{\\partial}{\\partial y}(hu) = 0\n",
    "\\end{align}"
   ]
  },
  {
   "cell_type": "markdown",
   "metadata": {},
   "source": [
    "## Discretization\n",
    "\\begin{align}\n",
    "u^{n+1}_{ij} &= u^{n}_{ij} - g\\frac{\\Delta t}{\\Delta x}(h_{i,j+1} -h_{i,j})\\\\\n",
    "v^{n+1}_{ij} &= v^{n}_{ij} - g\\frac{\\Delta t}{\\Delta y}(h_{i+1,j} -h_{i,j})\\\\\n",
    "h^{n+1}_{i,j} = h^{n}_{i,j} &- \\frac{\\Delta t}{\\Delta x}(f^e_{i,j} - f^w_{i,j})  - \\frac{\\Delta t}{\\Delta y}(f^n_{i,j} - f^s_{i,j})\\\\\n",
    "\\end{align}\n",
    "where\n",
    "\\begin{align}\n",
    "f^e_{i,j} = u^+_{i,j}h_{i,j} + u^-_{i,j}h_{i,j+1} \\\\\n",
    "f^n_{i,j} = v^+_{i,j}h_{i,j} + v^-_{i,j}h_{i+1,j} \\\\\n",
    "f^w_{i,j} = u^+_{i,j}h_{i,j-1} + u^-_{i,j}h_{i,j} \\\\\n",
    "f^s_{i,j} = v^+_{i,j}h_{i-1,j} + v^-_{i,j}h_{i,j} \\\\\n",
    "\\end{align}\n",
    "and\n",
    "\\begin{align}\n",
    "u^+_{i,j} = 0.5(u_{i,j} + \\mid u_{i,j}\\mid) \\\\\n",
    "u^-_{i,j} = 0.5(u_{i,j} - \\mid u_{i,j}\\mid)\n",
    "\\end{align}\n",
    "and the height is smoothed:\n",
    "\\begin{equation}\n",
    "h^*_{i,j} = (1-\\epsilon)h_{i,j} + \\frac{\\epsilon}{4}(h_{i-1,j} + h_{i+1,j} + h_{i,j-1} + h_{i,j+1})\n",
    "\\end{equation}"
   ]
  },
  {
   "cell_type": "markdown",
   "metadata": {},
   "source": [
    "## Setup"
   ]
  },
  {
   "cell_type": "code",
   "execution_count": 1,
   "metadata": {},
   "outputs": [
    {
     "data": {
      "text/plain": [
       "Plots.GRBackend()"
      ]
     },
     "execution_count": 1,
     "metadata": {},
     "output_type": "execute_result"
    }
   ],
   "source": [
    "using Plots\n",
    "gr()"
   ]
  },
  {
   "cell_type": "code",
   "execution_count": 2,
   "metadata": {},
   "outputs": [],
   "source": [
    "x = linspace(-50,50,100)\n",
    "y = linspace(-100,100,100)\n",
    "dx = x[2] - x[1]\n",
    "dy = y[2] - y[1]\n",
    "\n",
    "\n",
    "d = 10\n",
    "g = 9.81\n",
    "dt = 0.5 * min(dx, dy) / sqrt(g*d)\n",
    "t1 = 10\n",
    "ϵ = 0.1\n",
    "\n",
    "h0 = d + exp.(-(x'.^2 .+ y.^2)/20)\n",
    "u0 = zeros(100, 100)\n",
    "v0 = zeros(100, 100);"
   ]
  },
  {
   "cell_type": "code",
   "execution_count": 3,
   "metadata": {},
   "outputs": [
    {
     "data": {
      "text/plain": [
       "iterate (generic function with 1 method)"
      ]
     },
     "execution_count": 3,
     "metadata": {},
     "output_type": "execute_result"
    }
   ],
   "source": [
    "function iterate(h, u, v)\n",
    "    \n",
    "    h_new = zeros(size(h))\n",
    "    u_new = zeros(size(u))\n",
    "    v_new = zeros(size(v))\n",
    "    \n",
    "    n1, n2 = size(h)\n",
    "    for i in 1:n1\n",
    "        for j in 1:n2\n",
    "            if j == n2\n",
    "                u_new[i,j] = 0\n",
    "            else\n",
    "                u_new[i,j] = u[i,j] - g*dt/dx * (h[i,j+1] - h[i,j])\n",
    "            end\n",
    "            if i == n1\n",
    "                v_new[i,j] = 0\n",
    "            else\n",
    "                v_new[i,j] = v[i,j] - g*dt/dy * (h[i+1,j] - h[i,j])\n",
    "            end\n",
    "        end\n",
    "    end\n",
    "    \n",
    "    u_plus = .5 * (u_new + abs.(u_new))\n",
    "    u_minus = .5 * (u_new - abs.(u_new))\n",
    "    v_plus = .5 * (v_new + abs.(v_new))\n",
    "    v_minus = .5 * (v_new - abs.(v_new))\n",
    "            \n",
    "    for i in 1:n1\n",
    "        for j in 1:n2\n",
    "            if j == n2\n",
    "                f_e = 0\n",
    "            else\n",
    "                f_e = u_plus[i,j] * h[i,j] + u_minus[i,j] * h[i,j+1]\n",
    "            end\n",
    "            if i == n1\n",
    "                f_n = 0\n",
    "            else\n",
    "                f_n = v_plus[i,j] * h[i,j] + v_minus[i,j] * h[i+1,j]\n",
    "            end\n",
    "            if j == 1\n",
    "                f_w = 0\n",
    "            else\n",
    "                f_w = u_plus[i,j-1] * h[i,j-1] + u_minus[i,j-1] * h[i,j]\n",
    "            end\n",
    "            if i == 1\n",
    "                f_s = 0\n",
    "            else\n",
    "                f_s = v_plus[i-1,j] * h[i-1,j] + v_minus[i-1,j] * h[i,j]\n",
    "            end\n",
    "            h_new[i,j] = h[i,j] - dt/dx*(f_e - f_w) - dt/dy*(f_n - f_s)\n",
    "        end\n",
    "    end\n",
    "    \n",
    "    h_filter = zeros(size(h_new))\n",
    "    for i in 1:n1\n",
    "        for j in 1:n2\n",
    "            if j == n2\n",
    "                h_e = h_new[i,j-1]\n",
    "            else\n",
    "                h_e = h_new[i,j+1]\n",
    "            end\n",
    "            if i == n1\n",
    "                h_n = h_new[i-1,j]\n",
    "            else\n",
    "                h_n = h_new[i+1,j]\n",
    "            end\n",
    "            if j == 1\n",
    "                h_w = h_new[i,j+1]\n",
    "            else\n",
    "                h_w = h_new[i,j-1]\n",
    "            end\n",
    "            if i == 1\n",
    "                h_s = h_new[i+1,j]\n",
    "            else\n",
    "                h_s = h_new[i-1,j]\n",
    "            end\n",
    "            \n",
    "            h_filter[i,j] = (1-ϵ) * h_new[i,j] + .25*ϵ*(h_e+h_n+h_w+h_s)\n",
    "        end\n",
    "    end\n",
    "    \n",
    "    (h_filter, u_new, v_new)\n",
    "end"
   ]
  },
  {
   "cell_type": "code",
   "execution_count": 4,
   "metadata": {},
   "outputs": [],
   "source": [
    "h = h0\n",
    "u = u0\n",
    "v = v0;"
   ]
  },
  {
   "cell_type": "code",
   "execution_count": 5,
   "metadata": {},
   "outputs": [],
   "source": [
    "hs = []\n",
    "for i=1:500\n",
    "    h,u,v = iterate(h,u,v)\n",
    "    push!(hs, h)\n",
    "end"
   ]
  },
  {
   "cell_type": "code",
   "execution_count": 15,
   "metadata": {},
   "outputs": [],
   "source": [
    "dd = @animate for i=1:500\n",
    "    plot(x,y,hs[i],st=:contour, fill=true, colorbar=false, clims=(9.8,10.2), c=:ice)\n",
    "    end;"
   ]
  },
  {
   "cell_type": "code",
   "execution_count": 16,
   "metadata": {},
   "outputs": [
    {
     "name": "stderr",
     "output_type": "stream",
     "text": [
      "\u001b[1m\u001b[36mINFO: \u001b[39m\u001b[22m\u001b[36mSaved animation to /Users/catethos/Projects/persephonejl/notebooks/2d.gif\n",
      "\u001b[39m"
     ]
    },
    {
     "data": {
      "text/html": [
       "<img src=\"2d.gif?0.12873896034711763>\" />"
      ],
      "text/plain": [
       "Plots.AnimatedGif(\"/Users/catethos/Projects/persephonejl/notebooks/2d.gif\")"
      ]
     },
     "execution_count": 16,
     "metadata": {},
     "output_type": "execute_result"
    }
   ],
   "source": [
    "gif(dd, \"2d.gif\")"
   ]
  },
  {
   "cell_type": "code",
   "execution_count": 17,
   "metadata": {},
   "outputs": [],
   "source": [
    "ddd = @animate for i=1:500\n",
    "    plot(x,y,hs[i], st=:surface, zlims=(9.8,10.2), colorbar=false, c=:ice)\n",
    "    end; "
   ]
  },
  {
   "cell_type": "code",
   "execution_count": 18,
   "metadata": {},
   "outputs": [
    {
     "name": "stderr",
     "output_type": "stream",
     "text": [
      "\u001b[1m\u001b[36mINFO: \u001b[39m\u001b[22m\u001b[36mSaved animation to /Users/catethos/Projects/persephonejl/notebooks/3d.gif\n",
      "\u001b[39m"
     ]
    },
    {
     "data": {
      "text/html": [
       "<img src=\"3d.gif?0.4730758621698037>\" />"
      ],
      "text/plain": [
       "Plots.AnimatedGif(\"/Users/catethos/Projects/persephonejl/notebooks/3d.gif\")"
      ]
     },
     "execution_count": 18,
     "metadata": {},
     "output_type": "execute_result"
    }
   ],
   "source": [
    "gif(ddd, \"3d.gif\")"
   ]
  },
  {
   "cell_type": "code",
   "execution_count": null,
   "metadata": {},
   "outputs": [],
   "source": []
  }
 ],
 "metadata": {
  "kernelspec": {
   "display_name": "Julia 0.6.0",
   "language": "julia",
   "name": "julia-0.6"
  },
  "language_info": {
   "file_extension": ".jl",
   "mimetype": "application/julia",
   "name": "julia",
   "version": "0.6.0"
  }
 },
 "nbformat": 4,
 "nbformat_minor": 2
}
