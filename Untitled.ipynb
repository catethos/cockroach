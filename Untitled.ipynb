{
 "cells": [
  {
   "cell_type": "code",
   "execution_count": 1,
   "metadata": {},
   "outputs": [],
   "source": [
    "from cytoolz.dicttoolz import valmap, dissoc\n",
    "from cytoolz.itertoolz import "
   ]
  },
  {
   "cell_type": "code",
   "execution_count": 3,
   "metadata": {},
   "outputs": [],
   "source": [
    "d = {\n",
    "    'a':1,\n",
    "    'b':{\n",
    "        'a':2,\n",
    "        'b':[{'c':1},{'d':1, 'a':10}]\n",
    "    }\n",
    "}"
   ]
  },
  {
   "cell_type": "code",
   "execution_count": 16,
   "metadata": {},
   "outputs": [
    {
     "data": {
      "text/plain": [
       "{'b': {'b': [{'c': 1}, {'d': 1}]}}"
      ]
     },
     "execution_count": 16,
     "metadata": {},
     "output_type": "execute_result"
    }
   ],
   "source": [
    "from cytoolz.dicttoolz import valmap, dissoc\n",
    "\n",
    "d = {\n",
    "    'a':1,\n",
    "    'b':{\n",
    "        'a':2,\n",
    "        'b':[{'c':1},{'d':1, 'a':10}]\n",
    "    }\n",
    "}\n",
    "\n",
    "def remove_recursively(d, k):\n",
    "    if isinstance(d, dict):\n",
    "        dd = dissoc(d, k)\n",
    "        return valmap(lambda x: remove_recursively(x,k), dd)\n",
    "    elif isinstance(d, list):\n",
    "        return [remove_recursively(x, k) for x in d]\n",
    "    else: \n",
    "        return d\n",
    "    \n",
    "remove_recursively(d,'a')"
   ]
  },
  {
   "cell_type": "code",
   "execution_count": null,
   "metadata": {},
   "outputs": [],
   "source": []
  },
  {
   "cell_type": "code",
   "execution_count": 4,
   "metadata": {},
   "outputs": [],
   "source": [
    "x = dissoc(d,'a')"
   ]
  },
  {
   "cell_type": "code",
   "execution_count": 5,
   "metadata": {},
   "outputs": [
    {
     "data": {
      "text/plain": [
       "{'b': {'a': 2, 'b': [{'c': 1}, {'a': 10, 'd': 1}]}}"
      ]
     },
     "execution_count": 5,
     "metadata": {},
     "output_type": "execute_result"
    }
   ],
   "source": [
    "x"
   ]
  },
  {
   "cell_type": "code",
   "execution_count": 6,
   "metadata": {},
   "outputs": [
    {
     "data": {
      "text/plain": [
       "{'b': {'b': [{'c': 1}, {'a': 10, 'd': 1}]}}"
      ]
     },
     "execution_count": 6,
     "metadata": {},
     "output_type": "execute_result"
    }
   ],
   "source": [
    "valmap(lambda x: dissoc(x,'a'),x)"
   ]
  },
  {
   "cell_type": "code",
   "execution_count": null,
   "metadata": {},
   "outputs": [],
   "source": []
  }
 ],
 "metadata": {
  "kernelspec": {
   "display_name": "Python 3",
   "language": "python",
   "name": "python3"
  },
  "language_info": {
   "codemirror_mode": {
    "name": "ipython",
    "version": 3
   },
   "file_extension": ".py",
   "mimetype": "text/x-python",
   "name": "python",
   "nbconvert_exporter": "python",
   "pygments_lexer": "ipython3",
   "version": "3.6.3"
  }
 },
 "nbformat": 4,
 "nbformat_minor": 2
}
