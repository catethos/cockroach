{
 "cells": [
  {
   "cell_type": "code",
   "execution_count": 13,
   "metadata": {},
   "outputs": [],
   "source": [
    "from persephone.statistic import Statistics\n",
    "import pandas as pd\n",
    "from cytoolz.dicttoolz import valmap\n",
    "from pathlib import Path\n",
    "\n",
    "\n",
    "class Node:\n",
    "\n",
    "    nodes = dict()\n",
    "\n",
    "    def __new__(cls, name):\n",
    "        if name not in cls.nodes:\n",
    "            instance = super(Node, cls).__new__(cls)\n",
    "            instance.neighbours = []\n",
    "            cls.nodes[name] = instance\n",
    "        return cls.nodes[name]\n",
    "\n",
    "    def __init__(self, name):\n",
    "        self.name = name\n",
    "        self.value = None\n",
    "\n",
    "    def __hash__(self):\n",
    "        return hash(self.name)\n",
    "\n",
    "    def __eq__(self, other):\n",
    "        return self.name == other.name\n",
    "\n",
    "    def link(self, other):\n",
    "        self.neighbours.append(other)\n",
    "\n",
    "\n",
    "class CovariateNode(Node):\n",
    "\n",
    "    def __init__(self, name):\n",
    "        super().__init__(name)\n",
    "\n",
    "    def receive(self, x):\n",
    "        for neighbour in self.neighbours:\n",
    "            neighbour.receive(x)\n",
    "\n",
    "\n",
    "class VariateNode(Node):\n",
    "\n",
    "    def __init__(self, name):\n",
    "        super().__init__(name)\n",
    "        self.statistic = Statistics(lambda x : x['score'])\n",
    "\n",
    "    def receive(self, x):\n",
    "        self.statistic.push(x)\n",
    "\n",
    "    def mean(self):\n",
    "        return self.statistic.mean\n",
    "\n",
    "\n",
    "class BipartieGraph:\n",
    "\n",
    "    def __init__(self, xys):\n",
    "        self.vnodes = dict()\n",
    "        self.cnodes = dict()\n",
    "        for (outcome, dimension) in xys:\n",
    "            covariate = CovariateNode(dimension)\n",
    "            variate = VariateNode(outcome)\n",
    "            self.cnodes[dimension] = covariate\n",
    "            self.vnodes[outcome] = variate\n",
    "            covariate.link(variate)\n",
    "\n",
    "    def clear(self):\n",
    "        for _, node in self.vnodes.items():\n",
    "            node.statistic.clear()\n",
    "\n",
    "    def transform(self, covariate_dict):\n",
    "        for covariate, value in covariate_dict.items():\n",
    "            self.cnodes[covariate].receive({'name':covariate, 'score':value})\n",
    "\n",
    "        return valmap(lambda x: {'score':x.statistic.mean, \n",
    "                                 'traits':x.statistic.factors}, \n",
    "                      self.vnodes)\n",
    "\n",
    "\n",
    "\n",
    "mapping_path = \"../persephone/persephone/data/mapping.csv\"\n",
    "df = pd.read_csv(mapping_path, header=None)\n",
    "df[0] = df[0].str.lower().str.replace(r'\\s|-', '_')\n",
    "df[1] = df[1].str.lower().str.replace(r'\\s|-', '_')\n",
    "graph = BipartieGraph(df.itertuples(index=False))"
   ]
  },
  {
   "cell_type": "code",
   "execution_count": 14,
   "metadata": {},
   "outputs": [
    {
     "data": {
      "text/plain": [
       "{'agreeableness': <__main__.CovariateNode at 0x10d6205f8>,\n",
       " 'artistic': <__main__.CovariateNode at 0x10d620630>,\n",
       " 'conscientiousness': <__main__.CovariateNode at 0x10d620e80>,\n",
       " 'conventional': <__main__.CovariateNode at 0x10d620d30>,\n",
       " 'core_self_evaluations': <__main__.CovariateNode at 0x10d617e80>,\n",
       " 'emotional_stability': <__main__.CovariateNode at 0x10d620be0>,\n",
       " 'enterprising': <__main__.CovariateNode at 0x10d620cf8>,\n",
       " 'extraversion': <__main__.CovariateNode at 0x10d6204a8>,\n",
       " 'investigative': <__main__.CovariateNode at 0x10d620f28>,\n",
       " 'mastery_goal_orientation': <__main__.CovariateNode at 0x10d617ef0>,\n",
       " 'openness_to_experience': <__main__.CovariateNode at 0x10d6205c0>,\n",
       " 'realistic': <__main__.CovariateNode at 0x10d620ef0>,\n",
       " 'self_monitoring': <__main__.CovariateNode at 0x10d617a58>,\n",
       " 'social': <__main__.CovariateNode at 0x10d620e10>}"
      ]
     },
     "execution_count": 14,
     "metadata": {},
     "output_type": "execute_result"
    }
   ],
   "source": [
    "graph.cnodes"
   ]
  },
  {
   "cell_type": "code",
   "execution_count": 15,
   "metadata": {},
   "outputs": [
    {
     "data": {
      "text/plain": [
       "{'comfort_with_change': {'score': 0, 'traits': []},\n",
       " 'communication_effectiveness': {'score': 2.0,\n",
       "  'traits': [{'name': 'self_monitoring', 'score': 2}]},\n",
       " 'continuance_commitment': {'score': 2.0,\n",
       "  'traits': [{'name': 'conscientiousness', 'score': 2}]},\n",
       " 'creativity': {'score': 0, 'traits': []},\n",
       " 'emotional_commitment': {'score': 2.0,\n",
       "  'traits': [{'name': 'conscientiousness', 'score': 2}]},\n",
       " 'grit': {'score': 1.5,\n",
       "  'traits': [{'name': 'agreeableness', 'score': 1},\n",
       "   {'name': 'conscientiousness', 'score': 2}]},\n",
       " 'honesty_and_humility': {'score': 1.5,\n",
       "  'traits': [{'name': 'agreeableness', 'score': 1},\n",
       "   {'name': 'conscientiousness', 'score': 2}]},\n",
       " 'innovation': {'score': 0, 'traits': []},\n",
       " 'job_performance': {'score': 2.0,\n",
       "  'traits': [{'name': 'conscientiousness', 'score': 2}]},\n",
       " 'job_satisfaction': {'score': 0, 'traits': []},\n",
       " 'leadership': {'score': 1.6666666666666667,\n",
       "  'traits': [{'name': 'agreeableness', 'score': 1},\n",
       "   {'name': 'conscientiousness', 'score': 2},\n",
       "   {'name': 'self_monitoring', 'score': 2}]},\n",
       " 'low_job_burnout': {'score': 0, 'traits': []},\n",
       " 'motivation_to_learn': {'score': 2.0,\n",
       "  'traits': [{'name': 'conscientiousness', 'score': 2}]},\n",
       " 'normative_commitment': {'score': 1.0,\n",
       "  'traits': [{'name': 'agreeableness', 'score': 1}]},\n",
       " 'proactivity': {'score': 2.0,\n",
       "  'traits': [{'name': 'conscientiousness', 'score': 2}]},\n",
       " 'riasec': {'score': 0, 'traits': []},\n",
       " 'teamwork': {'score': 1.5,\n",
       "  'traits': [{'name': 'agreeableness', 'score': 1},\n",
       "   {'name': 'conscientiousness', 'score': 2}]}}"
      ]
     },
     "execution_count": 15,
     "metadata": {},
     "output_type": "execute_result"
    }
   ],
   "source": [
    "graph.clear()\n",
    "graph.transform({'agreeableness':1,'conscientiousness':2,'self_monitoring':2})"
   ]
  },
  {
   "cell_type": "code",
   "execution_count": 12,
   "metadata": {},
   "outputs": [
    {
     "data": {
      "text/plain": [
       "1.6666666666666667"
      ]
     },
     "execution_count": 12,
     "metadata": {},
     "output_type": "execute_result"
    }
   ],
   "source": [
    "graph.vnodes['leadership'].statistic.mean"
   ]
  },
  {
   "cell_type": "code",
   "execution_count": 5,
   "metadata": {},
   "outputs": [
    {
     "data": {
      "text/plain": [
       "[]"
      ]
     },
     "execution_count": 5,
     "metadata": {},
     "output_type": "execute_result"
    }
   ],
   "source": [
    "graph.vnodes['communication_effectiveness'].statistic.factors"
   ]
  },
  {
   "cell_type": "code",
   "execution_count": null,
   "metadata": {},
   "outputs": [],
   "source": []
  }
 ],
 "metadata": {
  "kernelspec": {
   "display_name": "Python 3",
   "language": "python",
   "name": "python3"
  },
  "language_info": {
   "codemirror_mode": {
    "name": "ipython",
    "version": 3
   },
   "file_extension": ".py",
   "mimetype": "text/x-python",
   "name": "python",
   "nbconvert_exporter": "python",
   "pygments_lexer": "ipython3",
   "version": "3.6.3"
  }
 },
 "nbformat": 4,
 "nbformat_minor": 2
}
