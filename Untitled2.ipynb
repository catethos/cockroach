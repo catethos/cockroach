{
 "cells": [
  {
   "cell_type": "code",
   "execution_count": 5,
   "metadata": {},
   "outputs": [],
   "source": [
    "import pandas as pd\n",
    "import matplotlib.pyplot as plt\n",
    "%matplotlib inline"
   ]
  },
  {
   "cell_type": "code",
   "execution_count": null,
   "metadata": {},
   "outputs": [],
   "source": [
    "df['SEAT_CATEGORY']\n",
    "train['x2'] = df['BAGGAGE_CATEGORY']\n",
    "train['x3'] = (df['flightDuration_hour']>8)\n",
    "train['y'] = df['FNB_CATEGORY']"
   ]
  },
  {
   "cell_type": "code",
   "execution_count": 306,
   "metadata": {},
   "outputs": [],
   "source": [
    "df = pd.read_csv(\"scoringdata50k.csv\", encoding='latin1')"
   ]
  },
  {
   "cell_type": "code",
   "execution_count": 307,
   "metadata": {},
   "outputs": [],
   "source": [
    "main_routes = df.groupby(['ROUTE'])['FNB_CATEGORY'].count()[df.groupby(['ROUTE'])['FNB_CATEGORY'].count()>300].index.values"
   ]
  },
  {
   "cell_type": "code",
   "execution_count": 308,
   "metadata": {},
   "outputs": [
    {
     "name": "stdout",
     "output_type": "stream",
     "text": [
      "df --->  (20171, 5)\n",
      "df1 --->  (20575, 5)\n"
     ]
    }
   ],
   "source": [
    "df = pd.read_csv(\"scoringdata50k.csv\", encoding='latin1')\n",
    "df = df[df['ROUTE'].isin(main_routes)]\n",
    "df = df[['geoNetwork_country','SEAT_CATEGORY','BAGGAGE_CATEGORY','flightDuration_hour','FNB_CATEGORY']]\n",
    "print(\"df ---> \", df.shape)\n",
    "df1 = pd.read_csv(\"scoringdata51k.csv\", encoding='latin1')\n",
    "df1 = df1[df1['ROUTE'].isin(main_routes)]\n",
    "df1 = df1[['geoNetwork_country','SEAT_CATEGORY','BAGGAGE_CATEGORY','flightDuration_hour','FNB_CATEGORY']]\n",
    "print(\"df1 ---> \", df1.shape)\n",
    "total = pd.concat([df, df1], ignore_index=True)\n",
    "\n",
    "total = pd.get_dummies(total)"
   ]
  },
  {
   "cell_type": "code",
   "execution_count": 309,
   "metadata": {},
   "outputs": [
    {
     "name": "stderr",
     "output_type": "stream",
     "text": [
      "/Users/catethos/anaconda3/lib/python3.6/site-packages/ipykernel_launcher.py:4: SettingWithCopyWarning: \n",
      "A value is trying to be set on a copy of a slice from a DataFrame.\n",
      "Try using .loc[row_indexer,col_indexer] = value instead\n",
      "\n",
      "See the caveats in the documentation: http://pandas.pydata.org/pandas-docs/stable/indexing.html#indexing-view-versus-copy\n",
      "  after removing the cwd from sys.path.\n",
      "/Users/catethos/anaconda3/lib/python3.6/site-packages/ipykernel_launcher.py:5: SettingWithCopyWarning: \n",
      "A value is trying to be set on a copy of a slice from a DataFrame.\n",
      "Try using .loc[row_indexer,col_indexer] = value instead\n",
      "\n",
      "See the caveats in the documentation: http://pandas.pydata.org/pandas-docs/stable/indexing.html#indexing-view-versus-copy\n",
      "  \"\"\"\n"
     ]
    }
   ],
   "source": [
    "df = total.iloc[:20171,:]\n",
    "df1 = total.iloc[20171:,:]\n",
    "\n",
    "df['flightDuration_hour'] = (df['flightDuration_hour'] > 8).astype(float)\n",
    "df1['flightDuration_hour'] = (df1['flightDuration_hour'] > 8).astype(float)"
   ]
  },
  {
   "cell_type": "code",
   "execution_count": 318,
   "metadata": {},
   "outputs": [],
   "source": [
    "X_train = df.drop(['FNB_CATEGORY','SEAT_CATEGORY'], axis=1)\n",
    "Y_train = df['FNB_CATEGORY']\n",
    "\n",
    "X_test = df1.drop(['FNB_CATEGORY','SEAT_CATEGORY'], axis=1)\n",
    "Y_test = df1['FNB_CATEGORY']"
   ]
  },
  {
   "cell_type": "code",
   "execution_count": 319,
   "metadata": {},
   "outputs": [
    {
     "name": "stdout",
     "output_type": "stream",
     "text": [
      "             precision    recall  f1-score   support\n",
      "\n",
      "          0       0.64      0.70      0.67     11497\n",
      "          1       0.57      0.51      0.54      9078\n",
      "\n",
      "avg / total       0.61      0.62      0.61     20575\n",
      "\n"
     ]
    }
   ],
   "source": [
    "cls = LogisticRegression()\n",
    "cls.fit(X_train, Y_train)\n",
    "print(classification_report(Y_test, cls.predict(X_test)))"
   ]
  },
  {
   "cell_type": "code",
   "execution_count": 320,
   "metadata": {},
   "outputs": [
    {
     "name": "stdout",
     "output_type": "stream",
     "text": [
      "             precision    recall  f1-score   support\n",
      "\n",
      "          0       0.65      0.66      0.66     11497\n",
      "          1       0.56      0.54      0.55      9078\n",
      "\n",
      "avg / total       0.61      0.61      0.61     20575\n",
      "\n"
     ]
    }
   ],
   "source": [
    "p = cls.predict_proba(X_test)\n",
    "cls = LogisticRegression(C=1)\n",
    "cls.fit(X_train, Y_train)\n",
    "print(classification_report(Y_test, (p[:,1] - p[:,0] > -0.05)))"
   ]
  },
  {
   "cell_type": "code",
   "execution_count": 321,
   "metadata": {},
   "outputs": [
    {
     "name": "stdout",
     "output_type": "stream",
     "text": [
      "             precision    recall  f1-score   support\n",
      "\n",
      "          0       0.75      0.19      0.31     11497\n",
      "          1       0.47      0.92      0.62      9078\n",
      "\n",
      "avg / total       0.63      0.51      0.45     20575\n",
      "\n"
     ]
    }
   ],
   "source": [
    "p = cls.predict_proba(X_test)\n",
    "cls = LogisticRegression(C=1)\n",
    "cls.fit(X_train, Y_train)\n",
    "print(classification_report(Y_test, (p[:,1] - p[:,0] > -0.4)))"
   ]
  },
  {
   "cell_type": "code",
   "execution_count": 218,
   "metadata": {},
   "outputs": [
    {
     "name": "stdout",
     "output_type": "stream",
     "text": [
      "             precision    recall  f1-score   support\n",
      "\n",
      "          0       0.70      0.69      0.69     55273\n",
      "          1       0.58      0.59      0.58     39727\n",
      "\n",
      "avg / total       0.65      0.65      0.65     95000\n",
      "\n"
     ]
    }
   ],
   "source": [
    "cls = LogisticRegression()\n",
    "cls.fit(X_train, Y_train)\n",
    "print(classification_report(Y_test, cls.predict(X_test)))"
   ]
  },
  {
   "cell_type": "code",
   "execution_count": 225,
   "metadata": {},
   "outputs": [
    {
     "name": "stdout",
     "output_type": "stream",
     "text": [
      "             precision    recall  f1-score   support\n",
      "\n",
      "          0       0.70      0.69      0.69     55273\n",
      "          1       0.58      0.59      0.58     39727\n",
      "\n",
      "avg / total       0.65      0.65      0.65     95000\n",
      "\n"
     ]
    }
   ],
   "source": [
    "cls = LogisticRegression()\n",
    "cls.fit(X_train, Y_train)\n",
    "print(classification_report(Y_test, np.argmax(cls.predict_proba(X_test), axis=1)))"
   ]
  },
  {
   "cell_type": "code",
   "execution_count": 247,
   "metadata": {},
   "outputs": [
    {
     "name": "stdout",
     "output_type": "stream",
     "text": [
      "             precision    recall  f1-score   support\n",
      "\n",
      "          0       0.73      0.56      0.64     55273\n",
      "          1       0.54      0.71      0.61     39727\n",
      "\n",
      "avg / total       0.65      0.63      0.63     95000\n",
      "\n"
     ]
    }
   ],
   "source": [
    "cls = LogisticRegression(C=1)\n",
    "cls.fit(X_train, Y_train)\n",
    "print(classification_report(Y_test, (p[:,1] - p[:,0] > -0.1)))"
   ]
  },
  {
   "cell_type": "code",
   "execution_count": null,
   "metadata": {},
   "outputs": [],
   "source": []
  },
  {
   "cell_type": "code",
   "execution_count": null,
   "metadata": {},
   "outputs": [],
   "source": []
  },
  {
   "cell_type": "code",
   "execution_count": 210,
   "metadata": {},
   "outputs": [
    {
     "name": "stdout",
     "output_type": "stream",
     "text": [
      "             precision    recall  f1-score   support\n",
      "\n",
      "          0       0.68      0.77      0.72     55273\n",
      "          1       0.61      0.49      0.54     39727\n",
      "\n",
      "avg / total       0.65      0.65      0.65     95000\n",
      "\n"
     ]
    }
   ],
   "source": [
    "cls = RandomForestClassifier(n_estimators=50)\n",
    "cls.fit(X_train, Y_traiaan)\n",
    "print(classification_report(Y_test, cls.predict(X_test)))"
   ]
  },
  {
   "cell_type": "code",
   "execution_count": 211,
   "metadata": {},
   "outputs": [
    {
     "name": "stdout",
     "output_type": "stream",
     "text": [
      "             precision    recall  f1-score   support\n",
      "\n",
      "          0       0.68      0.83      0.75     55273\n",
      "          1       0.66      0.45      0.53     39727\n",
      "\n",
      "avg / total       0.67      0.67      0.66     95000\n",
      "\n"
     ]
    }
   ],
   "source": [
    "cls = GradientBoostingClassifier()\n",
    "cls.fit(X_train, Y_train)\n",
    "print(classification_report(Y_test, cls.predict(X_test)))"
   ]
  },
  {
   "cell_type": "code",
   "execution_count": 214,
   "metadata": {},
   "outputs": [
    {
     "name": "stdout",
     "output_type": "stream",
     "text": [
      "             precision    recall  f1-score   support\n",
      "\n",
      "          0       0.70      0.69      0.69     55273\n",
      "          1       0.57      0.58      0.58     39727\n",
      "\n",
      "avg / total       0.65      0.65      0.65     95000\n",
      "\n"
     ]
    }
   ],
   "source": [
    "cls = LinearSVC()\n",
    "cls.fit(X_train, Y_train)\n",
    "print(classification_report(Y_test, cls.predict(X_test)))"
   ]
  },
  {
   "cell_type": "code",
   "execution_count": 215,
   "metadata": {},
   "outputs": [
    {
     "name": "stdout",
     "output_type": "stream",
     "text": [
      "             precision    recall  f1-score   support\n",
      "\n",
      "          0       0.67      0.05      0.10     55273\n",
      "          1       0.42      0.96      0.59     39727\n",
      "\n",
      "avg / total       0.57      0.43      0.30     95000\n",
      "\n"
     ]
    }
   ],
   "source": [
    "cls = GaussianNB()\n",
    "cls.fit(X_train, Y_train)\n",
    "print(classification_report(Y_test, cls.predict(X_test)))"
   ]
  },
  {
   "cell_type": "code",
   "execution_count": 205,
   "metadata": {},
   "outputs": [
    {
     "data": {
      "text/plain": [
       "0.6611052631578948"
      ]
     },
     "execution_count": 205,
     "metadata": {},
     "output_type": "execute_result"
    }
   ],
   "source": [
    "cls = RandomForestClassifier()\n",
    "cls.fit(X_train, Y_train)\n",
    "cls.score(X_test, Y_test)"
   ]
  },
  {
   "cell_type": "code",
   "execution_count": 37,
   "metadata": {},
   "outputs": [
    {
     "data": {
      "text/plain": [
       "PAXCOUNT               0.022943\n",
       "PURCHASELEAD          -0.022653\n",
       "LENGTHOFSTAY           0.098828\n",
       "flight_hour            0.013014\n",
       "BAGGAGE_CATEGORY       0.216470\n",
       "SEAT_CATEGORY          0.315088\n",
       "FNB_CATEGORY           1.000000\n",
       "INS_FLAG               0.026511\n",
       "flightDuration_hour    0.154312\n",
       "Name: FNB_CATEGORY, dtype: float64"
      ]
     },
     "execution_count": 37,
     "metadata": {},
     "output_type": "execute_result"
    }
   ],
   "source": [
    "df.corr()['FNB_CATEGORY']"
   ]
  },
  {
   "cell_type": "code",
   "execution_count": 19,
   "metadata": {},
   "outputs": [
    {
     "data": {
      "text/plain": [
       "<matplotlib.image.AxesImage at 0x10e33a198>"
      ]
     },
     "execution_count": 19,
     "metadata": {},
     "output_type": "execute_result"
    },
    {
     "data": {
      "image/png": "[encoded data removed]",
      "text/plain": [
       "<matplotlib.figure.Figure at 0x10e337358>"
      ]
     },
     "metadata": {},
     "output_type": "display_data"
    }
   ],
   "source": [
    "plt.matshow(df.corr())"
   ]
  },
  {
   "cell_type": "code",
   "execution_count": 23,
   "metadata": {},
   "outputs": [
    {
     "data": {
      "text/plain": [
       "0.67202"
      ]
     },
     "execution_count": 23,
     "metadata": {},
     "output_type": "execute_result"
    }
   ],
   "source": [
    "(df['SEAT_CATEGORY'] == df['FNB_CATEGORY']).mean()"
   ]
  },
  {
   "cell_type": "code",
   "execution_count": 26,
   "metadata": {},
   "outputs": [
    {
     "data": {
      "text/plain": [
       "0.5762"
      ]
     },
     "execution_count": 26,
     "metadata": {},
     "output_type": "execute_result"
    }
   ],
   "source": [
    "(df['BAGGAGE_CATEGORY'] == df['FNB_CATEGORY']).mean()"
   ]
  },
  {
   "cell_type": "code",
   "execution_count": 43,
   "metadata": {},
   "outputs": [
    {
     "data": {
      "text/plain": [
       "0.5861"
      ]
     },
     "execution_count": 43,
     "metadata": {},
     "output_type": "execute_result"
    }
   ],
   "source": [
    "((df['flightDuration_hour']>8) == df['FNB_CATEGORY']).mean()"
   ]
  },
  {
   "cell_type": "code",
   "execution_count": 63,
   "metadata": {},
   "outputs": [],
   "source": [
    "train = pd.DataFrame()\n",
    "test = pd.DataFrame()"
   ]
  },
  {
   "cell_type": "code",
   "execution_count": 112,
   "metadata": {},
   "outputs": [],
   "source": [
    "train['x1'] = df['SEAT_CATEGORY']\n",
    "train['x2'] = df['BAGGAGE_CATEGORY']\n",
    "train['x3'] = (df['flightDuration_hour']>8)\n",
    "train['y'] = df['FNB_CATEGORY']\n",
    "\n",
    "test['x1'] = df1['SEAT_CATEGORY']\n",
    "test['x2'] = df1['BAGGAGE_CATEGORY']\n",
    "test['x3'] = (df1['flightDuration_hour']>8)\n",
    "test['y'] = df1['FNB_CATEGORY']"
   ]
  },
  {
   "cell_type": "code",
   "execution_count": 216,
   "metadata": {},
   "outputs": [],
   "source": [
    "from sklearn.linear_model import LogisticRegression\n",
    "from sklearn.ensemble import RandomForestClassifier, GradientBoostingClassifier\n",
    "from sklearn.svm import SVC, LinearSVC\n",
    "from sklearn.naive_bayes import GaussianNB, MultinomialNB\n",
    "from sklearn.metrics import classification_report"
   ]
  },
  {
   "cell_type": "code",
   "execution_count": 79,
   "metadata": {},
   "outputs": [],
   "source": [
    "#cls = SVC()\n",
    "cls = LogisticRegression()\n",
    "#cls = RandomForestClassifier()"
   ]
  },
  {
   "cell_type": "code",
   "execution_count": 146,
   "metadata": {},
   "outputs": [
    {
     "data": {
      "text/plain": [
       "0.67476"
      ]
     },
     "execution_count": 146,
     "metadata": {},
     "output_type": "execute_result"
    }
   ],
   "source": [
    "cls = GaussianNB()\n",
    "cls.fit(train[['x3','x2','x1']], train['y'])\n",
    "cls.score(test[['x3','x2','x1']], test['y'])"
   ]
  },
  {
   "cell_type": "code",
   "execution_count": 148,
   "metadata": {},
   "outputs": [
    {
     "name": "stdout",
     "output_type": "stream",
     "text": [
      "             precision    recall  f1-score   support\n",
      "\n",
      "          0       0.68      0.84      0.75     29186\n",
      "          1       0.67      0.44      0.53     20814\n",
      "\n",
      "avg / total       0.67      0.67      0.66     50000\n",
      "\n"
     ]
    }
   ],
   "source": [
    "print(classification_report(test['y'], cls.predict(test[['x3','x2','x1']])))"
   ]
  },
  {
   "cell_type": "code",
   "execution_count": 107,
   "metadata": {},
   "outputs": [
    {
     "data": {
      "text/plain": [
       "0.67412"
      ]
     },
     "execution_count": 107,
     "metadata": {},
     "output_type": "execute_result"
    }
   ],
   "source": [
    "cls = GaussianNB()\n",
    "cls.fit(train[['x1','x2','x3']], train['y'])\n",
    "cls.score(test[['x1','x2','x3']], test['y'])"
   ]
  },
  {
   "cell_type": "code",
   "execution_count": null,
   "metadata": {},
   "outputs": [],
   "source": []
  },
  {
   "cell_type": "code",
   "execution_count": null,
   "metadata": {},
   "outputs": [],
   "source": []
  },
  {
   "cell_type": "code",
   "execution_count": 83,
   "metadata": {},
   "outputs": [
    {
     "data": {
      "text/plain": [
       "0.27336"
      ]
     },
     "execution_count": 83,
     "metadata": {},
     "output_type": "execute_result"
    }
   ],
   "source": [
    "cls.predict(test[['x1','x2','x3']]).mean()"
   ]
  },
  {
   "cell_type": "code",
   "execution_count": 33,
   "metadata": {},
   "outputs": [],
   "source": [
    "p = (df['SEAT_CATEGORY'] + df['BAGGAGE_CATEGORY']) > 1"
   ]
  },
  {
   "cell_type": "code",
   "execution_count": 34,
   "metadata": {},
   "outputs": [
    {
     "data": {
      "text/plain": [
       "0.6804"
      ]
     },
     "execution_count": 34,
     "metadata": {},
     "output_type": "execute_result"
    }
   ],
   "source": [
    "(p ==df['FNB_CATEGORY']).mean()"
   ]
  },
  {
   "cell_type": "code",
   "execution_count": 35,
   "metadata": {},
   "outputs": [
    {
     "data": {
      "text/plain": [
       "0.52078"
      ]
     },
     "execution_count": 35,
     "metadata": {},
     "output_type": "execute_result"
    }
   ],
   "source": [
    "(df['SEAT_CATEGORY'] == df['BAGGAGE_CATEGORY']).mean()"
   ]
  },
  {
   "cell_type": "code",
   "execution_count": null,
   "metadata": {},
   "outputs": [],
   "source": []
  }
 ],
 "metadata": {
  "kernelspec": {
   "display_name": "Python 3",
   "language": "python",
   "name": "python3"
  },
  "language_info": {
   "codemirror_mode": {
    "name": "ipython",
    "version": 3
   },
   "file_extension": ".py",
   "mimetype": "text/x-python",
   "name": "python",
   "nbconvert_exporter": "python",
   "pygments_lexer": "ipython3",
   "version": "3.6.3"
  }
 },
 "nbformat": 4,
 "nbformat_minor": 2
}
